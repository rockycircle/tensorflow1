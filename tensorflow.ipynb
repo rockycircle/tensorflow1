{
 "cells": [
  {
   "cell_type": "code",
   "execution_count": 2,
   "metadata": {
    "scrolled": true
   },
   "outputs": [
    {
     "name": "stdout",
     "output_type": "stream",
     "text": [
      "[[2.]]\n"
     ]
    }
   ],
   "source": [
    "import tensorflow as tf\n",
    "\n",
    "#Create a variable\n",
    "w=tf.Variable([[0.5,1.0]])\n",
    "\n",
    "x=tf.Variable([[2.0],[1.0]])\n",
    "\n",
    "y=tf.matmul(w,x)\n",
    "\n",
    "#variables have to be explicitly initialized before you can run Ops\n",
    "init_op =tf.global_variables_initializer()\n",
    "with tf.Session() as sess:\n",
    "    sess.run(init_op)\n",
    "    print (y.eval())\n",
    "\n",
    "\n",
    "\n",
    "\n",
    "\n"
   ]
  },
  {
   "cell_type": "code",
   "execution_count": 12,
   "metadata": {},
   "outputs": [
    {
     "name": "stdout",
     "output_type": "stream",
     "text": [
      "[[0 0 0]\n",
      " [0 0 0]]\n"
     ]
    }
   ],
   "source": [
    "import tensorflow as tf\n",
    "\n",
    "#float32\n",
    "a=tf.zeros([3,4])\n",
    "\n",
    "\n",
    "#参考\n",
    "#tensor is [[1,2,3],[4,5,6]]\n",
    "tensor = tf.constant([[1, 2, 3], [4, 5, 6]])\n",
    "b=tf.zeros_like(tensor) \n",
    "#tf.ones_like([2,3],int32) = =>[[1,1,1],[1,1,1]]\n",
    "\n",
    "#tensor is [[1,2,3],[4,5,6]]\n",
    "#tf.ones_like(tensor) = =>[[1,1,1],[1,1,1]]\n",
    "\n",
    "#constant 1-D tensor popular with value list\n",
    "#tensor = tf.constant([1,2,3,4,5,6,7])=>[1,2,3,4,5,6,7]\n",
    "\n",
    "#constant 1-D tensor popular with scalar value -1\n",
    "#tensor = tf.constant(-1.0,shape=[2,3]) =>[[-1,-1,-1]\n",
    "#                                         [-1,-1,-1]]\n",
    "\n",
    "\n",
    "#tf.linspace(10.0,12.0,3,name=\"linespace\") =>[10.0,11.0,12.0]\n",
    "\n",
    "\n",
    "with tf.Session() as sess:\n",
    "    print(sess.run(b))\n",
    "\n",
    "\n"
   ]
  },
  {
   "cell_type": "code",
   "execution_count": 14,
   "metadata": {},
   "outputs": [
    {
     "name": "stdout",
     "output_type": "stream",
     "text": [
      "[[ 4.1303053  -8.72081    -2.1329763 ]\n",
      " [-2.8291407  -0.38938498  3.856248  ]]\n",
      "[[1 2]\n",
      " [3 4]\n",
      " [5 6]]\n"
     ]
    }
   ],
   "source": [
    "norm = tf.random_normal([2,3],mean=-1,stddev=4)\n",
    "\n",
    "#shuffle the fiest dimension of a tensor\n",
    "c = tf.constant([[1,2],[3,4],[5,6]])\n",
    "shuff=tf.random_shuffle(c)\n",
    "\n",
    "#Each time we run these ops, different results are generated\n",
    "sess = tf.Session()\n",
    "print(sess.run(norm))\n",
    "print(sess.run(shuff))\n",
    "\n",
    "\n",
    "\n"
   ]
  },
  {
   "cell_type": "code",
   "execution_count": 17,
   "metadata": {},
   "outputs": [
    {
     "name": "stdout",
     "output_type": "stream",
     "text": [
      "0\n",
      "1\n",
      "2\n",
      "3\n"
     ]
    }
   ],
   "source": [
    "state =tf.Variable(0)\n",
    "new_value = tf.add(state,tf.constant(1))\n",
    "update =- tf.assign(state,new_value)\n",
    "\n",
    "with tf.Session() as sess:\n",
    "    sess.run(tf.global_variables_initializer())\n",
    "    print(sess.run(state))\n",
    "    for _ in range(3):\n",
    "        sess.run(update)\n",
    "        print(sess.run(state))\n",
    "        \n",
    "    \n",
    "\n",
    "\n"
   ]
  },
  {
   "cell_type": "code",
   "execution_count": 18,
   "metadata": {},
   "outputs": [
    {
     "name": "stdout",
     "output_type": "stream",
     "text": [
      "[[0. 0. 0.]\n",
      " [0. 0. 0.]\n",
      " [0. 0. 0.]]\n"
     ]
    }
   ],
   "source": [
    "import numpy as np\n",
    "\n",
    "a = np.zeros((3,3))\n",
    "ta = tf.convert_to_tensor(a)\n",
    "\n",
    "with tf.Session() as sess:\n",
    "    print(sess.run(ta))\n",
    "\n",
    "\n",
    "\n",
    "\n",
    "\n"
   ]
  },
  {
   "cell_type": "code",
   "execution_count": 36,
   "metadata": {},
   "outputs": [
    {
     "name": "stdout",
     "output_type": "stream",
     "text": [
      "[array([[14.]], dtype=float32)]\n"
     ]
    }
   ],
   "source": [
    "input1 = tf.placeholder(tf.float32)\n",
    "input2 = tf.placeholder(tf.float32)\n",
    "output = tf.matmul(input1,input2)\n",
    "with tf.Session() as sess:\n",
    "    print(sess.run([output],feed_dict={input1:[[7.]],input2:[[2.]]}))\n",
    "\n",
    "\n",
    "\n"
   ]
  },
  {
   "cell_type": "code",
   "execution_count": 5,
   "metadata": {},
   "outputs": [
    {
     "data": {
      "image/png": "[encoded data removed]",
      "text/plain": [
       "<Figure size 432x288 with 1 Axes>"
      ]
     },
     "metadata": {},
     "output_type": "display_data"
    }
   ],
   "source": [
    "import numpy as np\n",
    "import tensorflow as tf\n",
    "import matplotlib.pyplot as plt\n",
    "\n",
    "\n",
    "#随机生成1000个点围绕在y=0.1x+0.3直线周围\n",
    "num_points = 1000\n",
    "vectors_set = []\n",
    "for i in range(num_points):\n",
    "    x1=np.random.normal(0.0,0.56)\n",
    "    y1=x1*0.1+0.3+np.random.normal(0.0,0.03)\n",
    "    vectors_set.append([x1,y1])\n",
    "    \n",
    "#生成一些样本\n",
    "x_data = [v[0] for v in vectors_set]\n",
    "y_data = [v[1] for v in vectors_set]\n",
    "\n",
    "\n",
    "plt.scatter(x_data,y_data,c='r')\n",
    "plt.show()\n",
    "\n",
    "\n",
    "\n",
    "\n"
   ]
  },
  {
   "cell_type": "markdown",
   "metadata": {},
   "source": [
    "import tensorflow as tf\n",
    "\n",
    "#生成一堆的w矩阵，取值是[-1,1]之间的随机数\n",
    "w = tf.Variable(tf.random_uniform([1],-1.0,1.0),name = 'w')\n",
    "#生成一维的b矩阵初始值为0\n",
    "b = tf.Variable(tf.zeros([1]),name = 'b')\n",
    "#经过计算得出预估值y\n",
    "y = w * x_data + b\n",
    "\n",
    "#以预估值y和实际值y_data之间的均方误差作为损失\n",
    "loss = tf.reduce_mean(tf.square(y -y_data),name='loss')\n",
    "#采用梯度下降法来优化参数\n",
    "optimizer=tf.train.GradientDescentOptimizer(0.5)\n",
    "\n",
    "\n",
    "#训练的过程就是最小化这个误差值\n",
    "train = optimizer.minimize(loss,name='train')\n",
    "\n",
    "sess = tf.Session()\n",
    "\n",
    "init = tf.global_variables_initializer()\n",
    "sess.run(init)\n",
    "\n",
    "#初始化的w和b是多少\n",
    "print (\"w =\",sess.run(w),\"b =\",sess.run(b),\"loss =\",sess.run(loss))\n",
    "#执行20次训练\n",
    "for step in range(20):\n",
    "    sess.run(train)\n",
    "    #输出训练好的w和b\n",
    "    print (\"w =\",sess.run(w),\"b =\",sess.run(b),\"loss =\",sess.run(loss))\n",
    "writer = tf.train.SummaryWriter(\"./tmp\",sess.graph)    \n",
    "\n",
    "\n",
    "\n",
    "\n",
    "\n",
    "\n",
    "\n",
    "\n",
    "\n",
    "\n",
    "\n",
    "\n",
    "\n",
    "\n",
    "\n",
    "\n",
    "\n"
   ]
  },
  {
   "cell_type": "code",
   "execution_count": 13,
   "metadata": {},
   "outputs": [
    {
     "name": "stdout",
     "output_type": "stream",
     "text": [
      "w = [-0.41767144] b = [0.] loss = 0.18166919\n",
      "w = [-0.2464315] b = [0.3078831] loss = 0.039285332\n",
      "w = [-0.13512307] b = [0.3053117] loss = 0.018492667\n",
      "w = [-0.0597273] b = [0.3036403] loss = 0.008953071\n",
      "w = [-0.00865832] b = [0.30250818] loss = 0.004576342\n",
      "w = [0.02593298] b = [0.30174133] loss = 0.002568314\n",
      "w = [0.04936324] b = [0.3012219] loss = 0.0016470375\n",
      "w = [0.06523361] b = [0.3008701] loss = 0.001224359\n",
      "w = [0.07598332] b = [0.3006318] loss = 0.001030436\n",
      "w = [0.0832646] b = [0.30047035] loss = 0.00094146456\n",
      "w = [0.08819653] b = [0.30036104] loss = 0.00090064487\n",
      "w = [0.09153715] b = [0.30028698] loss = 0.0008819171\n",
      "w = [0.0937999] b = [0.30023682] loss = 0.0008733244\n",
      "w = [0.09533256] b = [0.30020285] loss = 0.0008693825\n",
      "w = [0.0963707] b = [0.3001798] loss = 0.00086757395\n",
      "w = [0.09707388] b = [0.30016422] loss = 0.0008667439\n",
      "w = [0.09755018] b = [0.30015367] loss = 0.0008663633\n",
      "w = [0.0978728] b = [0.30014652] loss = 0.0008661888\n",
      "w = [0.09809133] b = [0.30014166] loss = 0.0008661084\n",
      "w = [0.09823934] b = [0.30013838] loss = 0.0008660718\n",
      "w = [0.09833959] b = [0.30013618] loss = 0.0008660549\n"
     ]
    }
   ],
   "source": [
    "import tensorflow as tf\n",
    "\n",
    "#生成一堆的w矩阵，取值是[-1,1]之间的随机数 \n",
    "w = tf.Variable(tf.random_uniform([1],-1.0,1.0),name = 'w')\n",
    "\n",
    "#生成一维的b矩阵初始值为0 \n",
    "b = tf.Variable(tf.zeros([1]),name = 'b')\n",
    "\n",
    "#经过计算得出预估值y \n",
    "y = w * x_data + b\n",
    "\n",
    "#以预估值y和实际值y_data之间的均方误差作为损失 \n",
    "loss = tf.reduce_mean(tf.square(y -y_data),name='loss')\n",
    "\n",
    "#采用梯度下降法来优化参数 \n",
    "optimizer=tf.train.GradientDescentOptimizer(0.5)\n",
    "\n",
    "#训练的过程就是最小化这个误差值 \n",
    "train = optimizer.minimize(loss,name='train')\n",
    "\n",
    "sess = tf.Session()\n",
    "\n",
    "init = tf.global_variables_initializer()\n",
    "\n",
    "sess.run(init)\n",
    "\n",
    "#初始化的w和b是多少 \n",
    "print (\"w =\",sess.run(w),\"b =\",sess.run(b),\"loss =\",sess.run(loss))\n",
    "\n",
    "#执行20次训练 \n",
    "for step in range(20): \n",
    "    sess.run(train)\n",
    "\n",
    "#输出训练好的w和b\n",
    "    print (\"w =\",sess.run(w),\"b =\",sess.run(b),\"loss =\",sess.run(loss))\n",
    "#writer = tf.train.SummaryWriter(\"./tmp\",sess.graph)"
   ]
  },
  {
   "cell_type": "code",
   "execution_count": 14,
   "metadata": {},
   "outputs": [
    {
     "data": {
      "image/png": "[encoded data removed]",
      "text/plain": [
       "<Figure size 432x288 with 1 Axes>"
      ]
     },
     "metadata": {},
     "output_type": "display_data"
    }
   ],
   "source": [
    "plt.scatter(x_data,y_data,c='r')\n",
    "plt.plot(x_data,sess.run(w)*x_data+sess.run(b))\n",
    "plt.show()"
   ]
  },
  {
   "cell_type": "code",
   "execution_count": null,
   "metadata": {},
   "outputs": [],
   "source": []
  }
 ],
 "metadata": {
  "kernelspec": {
   "display_name": "Python 3",
   "language": "python",
   "name": "python3"
  },
  "language_info": {
   "codemirror_mode": {
    "name": "ipython",
    "version": 3
   },
   "file_extension": ".py",
   "mimetype": "text/x-python",
   "name": "python",
   "nbconvert_exporter": "python",
   "pygments_lexer": "ipython3",
   "version": "3.6.5"
  }
 },
 "nbformat": 4,
 "nbformat_minor": 2
}
