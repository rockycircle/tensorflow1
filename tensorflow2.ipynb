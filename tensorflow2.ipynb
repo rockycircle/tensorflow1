{
 "cells": [
  {
   "cell_type": "code",
   "execution_count": 1,
   "metadata": {},
   "outputs": [
    {
     "name": "stderr",
     "output_type": "stream",
     "text": [
      "E:\\anaconda\\lib\\site-packages\\h5py\\__init__.py:36: FutureWarning: Conversion of the second argument of issubdtype from `float` to `np.floating` is deprecated. In future, it will be treated as `np.float64 == np.dtype(float).type`.\n",
      "  from ._conv import register_converters as _register_converters\n"
     ]
    },
    {
     "name": "stdout",
     "output_type": "stream",
     "text": [
      "b'hello tf!'\n"
     ]
    }
   ],
   "source": [
    "import tensorflow as tf\n",
    "hello =  tf.constant('hello tf!')\n",
    "sess = tf.Session()\n",
    "print(sess.run(hello))\n",
    "\n",
    "\n"
   ]
  },
  {
   "cell_type": "code",
   "execution_count": 3,
   "metadata": {},
   "outputs": [
    {
     "name": "stdout",
     "output_type": "stream",
     "text": [
      "hello opencv\n"
     ]
    }
   ],
   "source": [
    "import cv2\n",
    "print('hello opencv')"
   ]
  },
  {
   "cell_type": "code",
   "execution_count": 11,
   "metadata": {},
   "outputs": [
    {
     "data": {
      "text/plain": [
       "-1"
      ]
     },
     "execution_count": 11,
     "metadata": {},
     "output_type": "execute_result"
    }
   ],
   "source": [
    "import cv2\n",
    "img = cv2.imread('N:/tensflow/picturedeal/th.jpg',1) #read image 参数一图片名参数二0为灰度图1为彩色图\n",
    "cv2.imshow('image',img)  #参数一窗口名称参数二当前图片内容\n",
    "cv2.waitKey(0)"
   ]
  },
  {
   "cell_type": "code",
   "execution_count": 13,
   "metadata": {},
   "outputs": [
    {
     "data": {
      "text/plain": [
       "True"
      ]
     },
     "execution_count": 13,
     "metadata": {},
     "output_type": "execute_result"
    }
   ],
   "source": [
    "import cv2\n",
    "img = cv2.imread('N:/tensflow/picturedeal/th.jpg',1)\n",
    "cv2.imwrite('image1.jpg',img)"
   ]
  },
  {
   "cell_type": "code",
   "execution_count": 20,
   "metadata": {},
   "outputs": [
    {
     "data": {
      "text/plain": [
       "True"
      ]
     },
     "execution_count": 20,
     "metadata": {},
     "output_type": "execute_result"
    }
   ],
   "source": [
    "import cv2\n",
    "img = cv2.imread('N:/tensflow/picturedeal/th.jpg',1)\n",
    "cv2.imwrite('imagetest.jpg',img,[cv2.IMWRITE_JPEG_QUALITY,50])\n",
    "#1M 100k 10k 0-100 有损压缩\n"
   ]
  },
  {
   "cell_type": "code",
   "execution_count": 21,
   "metadata": {},
   "outputs": [
    {
     "data": {
      "text/plain": [
       "True"
      ]
     },
     "execution_count": 21,
     "metadata": {},
     "output_type": "execute_result"
    }
   ],
   "source": [
    "import cv2\n",
    "img = cv2.imread('N:/tensflow/picturedeal/th.jpg',1)\n",
    "cv2.imwrite('imagetest.png',img,[cv2.IMWRITE_PNG_COMPRESSION,0])\n",
    "#jpg 值越大压缩比越小   png值越小压缩比越小"
   ]
  },
  {
   "cell_type": "code",
   "execution_count": 2,
   "metadata": {},
   "outputs": [
    {
     "name": "stdout",
     "output_type": "stream",
     "text": [
      "81 68 178\n"
     ]
    },
    {
     "data": {
      "text/plain": [
       "-1"
      ]
     },
     "execution_count": 2,
     "metadata": {},
     "output_type": "execute_result"
    }
   ],
   "source": [
    "import cv2\n",
    "img = cv2.imread('N:/tensflow/picturedeal/tim.jpg',1)\n",
    "(b,g,r) = img[50,50]\n",
    "print(b,g,r)\n",
    "for i in range(1,100):\n",
    "    img[10+i,100] = (255,0,0)\n",
    "cv2.imshow('image',img)\n",
    "cv2.waitKey(0)\n",
    "\n",
    "\n",
    "\n"
   ]
  },
  {
   "cell_type": "code",
   "execution_count": 7,
   "metadata": {},
   "outputs": [
    {
     "name": "stdout",
     "output_type": "stream",
     "text": [
      "Tensor(\"Const_4:0\", shape=(), dtype=float32)\n",
      "<tf.Variable 'var_4:0' shape=() dtype=int32_ref>\n",
      "10\n"
     ]
    }
   ],
   "source": [
    "import tensorflow as tf\n",
    "data1 = tf.constant(2.5)\n",
    "data2 = tf.Variable(10,name='var')\n",
    "print(data1)\n",
    "print(data2)\n",
    "'''\n",
    "sess = tf.Session()\n",
    "print(sess.run(data1))\n",
    "init = tf.global_variables_initializer()\n",
    "sess.run(init)\n",
    "print(sess.run(data2))\n",
    "\n",
    "#本质 tf = tensor + 计算图\n",
    "# tensor 数据\n",
    "#op\n",
    "#graphs 数据操作图\n",
    "#session\n",
    "'''\n",
    "init = tf.global_variables_initializer()\n",
    "sess = tf.Session()\n",
    "with sess:\n",
    "    sess.run(init)\n",
    "    print(sess.run(data2))\n",
    "\n",
    "\n",
    "\n"
   ]
  },
  {
   "cell_type": "code",
   "execution_count": 3,
   "metadata": {},
   "outputs": [
    {
     "name": "stdout",
     "output_type": "stream",
     "text": [
      "None\n",
      "8\n",
      "12\n",
      "4\n",
      "3.0\n",
      "end!\n"
     ]
    }
   ],
   "source": [
    "import tensorflow as tf\n",
    "data1 = tf.constant(6)\n",
    "data2 = tf.constant(2)\n",
    "dataAdd = tf.add(data1,data2)\n",
    "dataMul = tf.multiply(data1,data2)\n",
    "dataSub = tf.subtract(data1,data2)\n",
    "dataDiv = tf.divide(data1,data2)\n",
    "init = tf.global_variables_initializer()\n",
    "with tf.Session() as sess:\n",
    "    print(sess.run(init))\n",
    "    print(sess.run(dataAdd))\n",
    "    print(sess.run(dataMul))\n",
    "    print(sess.run(dataSub))\n",
    "    print(sess.run(dataDiv))\n",
    "print('end!')    \n",
    "\n",
    "\n",
    "\n",
    "\n"
   ]
  },
  {
   "cell_type": "code",
   "execution_count": 5,
   "metadata": {},
   "outputs": [
    {
     "name": "stdout",
     "output_type": "stream",
     "text": [
      "8\n",
      "12\n",
      "4\n",
      "3.0\n",
      "sess.run(dataCopy) 8\n",
      "dataCopy.eval() 14\n",
      "tf.get_default_session() 20\n",
      "end!\n"
     ]
    }
   ],
   "source": [
    "import tensorflow as tf\n",
    "data1 = tf.constant(6)\n",
    "data2 = tf.Variable(2)\n",
    "dataAdd = tf.add(data1,data2)\n",
    "dataCopy = tf.assign(data2,dataAdd)#dataAdd ->data2\n",
    "dataMul = tf.multiply(data1,data2)\n",
    "dataSub = tf.subtract(data1,data2)\n",
    "dataDiv = tf.divide(data1,data2)\n",
    "init = tf.global_variables_initializer()\n",
    "with tf.Session() as sess:\n",
    "    sess.run(init)\n",
    "    print(sess.run(dataAdd))\n",
    "    print(sess.run(dataMul))\n",
    "    print(sess.run(dataSub))\n",
    "    print(sess.run(dataDiv))\n",
    "    print('sess.run(dataCopy)',sess.run(dataCopy))\n",
    "    print('dataCopy.eval()',dataCopy.eval())\n",
    "    print('tf.get_default_session()',tf.get_default_session().run(dataCopy))\n",
    "    \n",
    "print('end!')    \n",
    "\n",
    "\n",
    "\n"
   ]
  },
  {
   "cell_type": "code",
   "execution_count": 7,
   "metadata": {},
   "outputs": [
    {
     "name": "stdout",
     "output_type": "stream",
     "text": [
      "8.0\n",
      "end!\n"
     ]
    }
   ],
   "source": [
    "#placehold\n",
    "\n",
    "import tensorflow as tf\n",
    "data1 = tf.placeholder(tf.float32)\n",
    "data2 = tf.placeholder(tf.float32)\n",
    "dataAdd = tf.add(data1,data2)\n",
    "with tf.Session() as sess:\n",
    "    print(sess.run(dataAdd,feed_dict = {data1:6,data2:2}))\n",
    "    #1 dataAdd 2 data (feed_dict = {1:6,2:2})\n",
    "print('end!')    \n",
    "\n"
   ]
  },
  {
   "cell_type": "code",
   "execution_count": 12,
   "metadata": {},
   "outputs": [
    {
     "name": "stdout",
     "output_type": "stream",
     "text": [
      "(3, 2)\n",
      "[[1 2]\n",
      " [3 4]\n",
      " [5 6]]\n",
      "[1 2]\n",
      "[1 3 5]\n",
      "1\n"
     ]
    }
   ],
   "source": [
    "#类比 数组 M行N列【】 内部【】 【里面 列数据】 【】中括号整体 行数\n",
    "#[[6.6]] [[6,6]]\n",
    "import tensorflow as tf\n",
    "data1 = tf.constant([[6,6]])\n",
    "data2 = tf.constant([[2],[2]])\n",
    "data3 = tf.constant([[3,3]])\n",
    "data4 = tf.constant([[1,2],[3,4],[5,6]])\n",
    "print(data4.shape)#维度\n",
    "with tf.Session() as sess:\n",
    "    print(sess.run(data4))     #打印整体\n",
    "    print(sess.run(data4[0]))  #\n",
    "    print(sess.run(data4[:,0]))\n",
    "    print(sess.run(data4[0,0]))\n",
    "\n",
    "\n",
    "\n"
   ]
  },
  {
   "cell_type": "code",
   "execution_count": 15,
   "metadata": {},
   "outputs": [
    {
     "name": "stdout",
     "output_type": "stream",
     "text": [
      "[[24]]\n",
      "[[9 9]]\n",
      "[[12 12]\n",
      " [12 12]]\n",
      "[array([[12, 12],\n",
      "       [12, 12]]), array([[9, 9]])]\n"
     ]
    }
   ],
   "source": [
    "import tensorflow as tf\n",
    "data1 = tf.constant([[6,6]])\n",
    "data2 = tf.constant([[2],[2]])\n",
    "data3 = tf.constant([[3,3]])\n",
    "data4 = tf.constant([[1,2],[3,4],[5,6]])\n",
    "matMul = tf.matmul(data1,data2)\n",
    "matMul2 = tf.multiply(data1,data2)\n",
    "matAdd = tf.add(data1,data3)\n",
    "with tf.Session() as sess:\n",
    "    print(sess.run(matMul)) #矩阵相乘 \n",
    "    print(sess.run(matAdd)) #矩阵相加\n",
    "    print(sess.run(matMul2))#行列互乘\n",
    "    print(sess.run([matMul2,matAdd]))\n",
    "    "
   ]
  },
  {
   "cell_type": "code",
   "execution_count": 19,
   "metadata": {},
   "outputs": [
    {
     "name": "stdout",
     "output_type": "stream",
     "text": [
      "[[0 0 0]\n",
      " [0 0 0]]\n",
      "[[0. 0. 0.]\n",
      " [0. 0. 0.]]\n",
      "[[1. 1. 1.]\n",
      " [1. 1. 1.]]\n",
      "[[15 15 15]\n",
      " [15 15 15]]\n"
     ]
    }
   ],
   "source": [
    "import tensorflow as tf \n",
    "mat0 = tf.constant([[0,0,0],[0,0,0]])\n",
    "mat1 = tf.zeros([2,3])\n",
    "mat2 = tf.ones([2,3])\n",
    "mat3 =tf.fill([2,3],15)\n",
    "with tf.Session() as sess:\n",
    "    print(sess.run(mat0))\n",
    "    print(sess.run(mat1))\n",
    "    print(sess.run(mat2))\n",
    "    print(sess.run(mat3))\n",
    "    \n",
    "    \n",
    "    \n",
    "    "
   ]
  },
  {
   "cell_type": "code",
   "execution_count": 20,
   "metadata": {},
   "outputs": [
    {
     "name": "stdout",
     "output_type": "stream",
     "text": [
      "[[2]\n",
      " [3]\n",
      " [4]]\n",
      "[[0]\n",
      " [0]\n",
      " [0]]\n",
      "[0.        0.2       0.4       0.6       0.8       1.        1.2\n",
      " 1.4       1.6       1.8000001 2.       ]\n",
      "[[ 0.2399298   0.8150555   1.5483325 ]\n",
      " [ 0.5024723  -0.8370383   0.96640575]]\n"
     ]
    }
   ],
   "source": [
    "import tensorflow as tf \n",
    "mat1 = tf.constant([[2],[3],[4]])\n",
    "mat2 = tf.zeros_like(mat1)\n",
    "mat3 = tf.linspace(0.0,2.0,11)\n",
    "mat4 = tf.random_uniform([2,3],-1,2)\n",
    "\n",
    "\n",
    "\n",
    "with tf.Session() as sess:\n",
    "    print(sess.run(mat1))\n",
    "    print(sess.run(mat2))\n",
    "    print(sess.run(mat3))\n",
    "    print(sess.run(mat4))\n",
    "    \n",
    "    \n",
    "    \n",
    "    \n",
    "    \n",
    "    \n",
    "    \n",
    "    \n",
    "    "
   ]
  },
  {
   "cell_type": "code",
   "execution_count": 26,
   "metadata": {},
   "outputs": [
    {
     "name": "stdout",
     "output_type": "stream",
     "text": [
      "[1 2 3 4 5]\n",
      "[1 2 3 4 5]\n",
      "(5,) (2, 2)\n",
      "[[0. 0. 0.]\n",
      " [0. 0. 0.]] [[1. 1.]\n",
      " [1. 1.]]\n",
      "[[1 2]\n",
      " [5 4]]\n",
      "4\n",
      "[[2. 2. 2.]\n",
      " [2. 2. 2.]]\n",
      "[[0.5 0.5 0.5]\n",
      " [0.5 0.5 0.5]]\n",
      "[[3. 3. 3.]\n",
      " [3. 3. 3.]]\n",
      "[[2. 3. 4.]\n",
      " [5. 6. 7.]]\n",
      "[[1. 2. 3.]\n",
      " [4. 5. 6.]]\n"
     ]
    }
   ],
   "source": [
    "#curd\n",
    "import numpy as np\n",
    "data1 = np.array([1,2,3,4,5])\n",
    "print(data1)\n",
    "data2 = np.array([[1,2],\n",
    "                  [3,4]])\n",
    "print(data1)\n",
    "print(data1.shape,data2.shape)\n",
    "print(np.zeros([2,3]),np.ones([2,2]))\n",
    "data2[1,0] = 5\n",
    "print(data2)\n",
    "print(data2[1,1])\n",
    "data3 = np.ones([2,3])\n",
    "print(data3*2)\n",
    "print(data3/2)\n",
    "print(data3+2)\n",
    "data4 = np.array([[1,2,3],[4,5,6]])\n",
    "print(data3+data4)\n",
    "print(data3*data4)\n"
   ]
  },
  {
   "cell_type": "code",
   "execution_count": 30,
   "metadata": {},
   "outputs": [
    {
     "data": {
      "image/png": "[encoded data removed]",
      "text/plain": [
       "<Figure size 432x288 with 1 Axes>"
      ]
     },
     "metadata": {},
     "output_type": "display_data"
    }
   ],
   "source": [
    "import numpy as np\n",
    "import matplotlib.pyplot as plt\n",
    "\n",
    "x = np.array([1,2,3,4,5,6,7,8])\n",
    "\n",
    "y = np.array([3,5,7,6,2,6,10,15])\n",
    "\n",
    "plt.plot(x,y,'r')#折线图 1 x 2 y 3 color\n",
    "plt.plot(x,y,'g',lw=10)\n",
    "\n",
    "x = np.array([1,2,3,4,5,6,7,8])\n",
    "\n",
    "x = np.array([3,5,7,6,2,6,10,15])\n",
    "plt.bar(x,y,0.5,alpha=1,color='b')\n",
    "plt.show()\n",
    "\n"
   ]
  },
  {
   "cell_type": "code",
   "execution_count": 41,
   "metadata": {},
   "outputs": [
    {
     "name": "stdout",
     "output_type": "stream",
     "text": [
      "[ 1.  2.  3.  4.  5.  6.  7.  8.  9. 10. 11. 12. 13. 14. 15.]\n"
     ]
    },
    {
     "data": {
      "image/png": "[encoded data removed]",
      "text/plain": [
       "<Figure size 432x288 with 1 Axes>"
      ]
     },
     "metadata": {},
     "output_type": "display_data"
    }
   ],
   "source": [
    "import tensorflow as tf\n",
    "import numpy as np\n",
    "import matplotlib.pyplot as plt\n",
    "date = np.linspace(1,15,15)\n",
    "endPrice = np.array([2511.90,2538.26,2510.68,2591.66,2732.98,2701.69,2701.29,2678.67,2726.50,2681.50,2739.17,2715.07,2823.58,2864.90,2919.08])\n",
    "beginPrice = np.array([2438.71,2500.88,2534.95,2512.52,2594.04,2743.26,2697.47,2695.24,2678.23,2722.13,2674.93,2744.13,2717.46,2832.73,2877.40])\n",
    "print(date)\n",
    "plt.figure()\n",
    "for i in range(0,15):\n",
    "    dateOne = np.zeros([2])\n",
    "    dateOne[0] = i;\n",
    "    dateOne[1] = i;\n",
    "    priceOne = np.zeros([2])\n",
    "    priceOne[0] =beginPrice[i]\n",
    "    priceOne[1] = endPrice[i]\n",
    "    if endPrice[i]>beginPrice[i]:\n",
    "        plt.plot(dateOne,priceOne,'r',lw=8)\n",
    "    else:\n",
    "        plt.plot(dateOne,priceOne,'g',lw=8)\n",
    " #plt.show()        \n",
    "dateNormal = np.zeros([15,1])\n",
    "priceNormal = np.zeros([15,1])\n",
    "for i in range(0,15):\n",
    "    dateNormal[i,0] = i/14.0;\n",
    "    priceNormal[i,0] = endPrice[i]/3000.0;\n",
    "x = tf.placeholder(tf.float32,[None,1])\n",
    "y = tf.placeholder(tf.float32,[None,1])\n",
    "\n",
    "w1 = tf.Variable(tf.random_uniform([1,10],0,1))\n",
    "b1 = tf.Variable(tf.zeros([1,10]))\n",
    "wb1 = tf.matmul(x,w1)+b1\n",
    "layer1 = tf.nn.relu(wb1)\n",
    "\n",
    "w2 = tf.Variable(tf.random_uniform([10,1],0,1))\n",
    "b2 = tf.Variable(tf.zeros([15,1]))\n",
    "wb2 = tf.matmul(layer1,w2)+b2\n",
    "layer2 = tf.nn.relu(wb2)\n",
    "\n",
    "loss = tf.reduce_mean(tf.square(y-layer2))\n",
    "train_step = tf.train.GradientDescentOptimizer(0.1).minimize(loss)\n",
    "with tf.Session() as sess:\n",
    "    sess.run(tf.global_variables_initializer())\n",
    "    for i in range(0,10000):\n",
    "        sess.run(train_step,feed_dict={x:dateNormal,y:priceNormal})\n",
    "\n",
    "    pred = sess.run(layer2,feed_dict={x:dateNormal})\n",
    "    predPrice = np.zeros([15,1])\n",
    "    for i in range(0,15):\n",
    "        predPrice[i,0] = (pred*3000)[i,0]\n",
    "    plt.plot(date,predPrice,'b',lw=1)    "
   ]
  },
  {
   "cell_type": "code",
   "execution_count": null,
   "metadata": {},
   "outputs": [],
   "source": []
  }
 ],
 "metadata": {
  "kernelspec": {
   "display_name": "Python 3",
   "language": "python",
   "name": "python3"
  },
  "language_info": {
   "codemirror_mode": {
    "name": "ipython",
    "version": 3
   },
   "file_extension": ".py",
   "mimetype": "text/x-python",
   "name": "python",
   "nbconvert_exporter": "python",
   "pygments_lexer": "ipython3",
   "version": "3.6.5"
  }
 },
 "nbformat": 4,
 "nbformat_minor": 2
}
